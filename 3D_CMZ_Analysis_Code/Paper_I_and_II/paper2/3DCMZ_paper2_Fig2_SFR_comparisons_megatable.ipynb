{
 "cells": [
  {
   "cell_type": "code",
   "execution_count": 40,
   "id": "2eba2a4f-db6e-4cdd-9610-c41f09eda842",
   "metadata": {},
   "outputs": [],
   "source": [
    "# To create Figure 2 in 3-D CMZ Paper II\n",
    "\n",
    "# To compare cmzoom (hatchfield) and FF star formation rates \n",
    "# now using megatable which is harder but has everything so should be used!!!\n"
   ]
  },
  {
   "cell_type": "code",
   "execution_count": 41,
   "id": "ac541c54-46b8-4f83-94f6-37b1f6e4790a",
   "metadata": {},
   "outputs": [],
   "source": [
    "import matplotlib.pyplot as plt\n",
    "import numpy as np\n",
    "import astropy.units as u\n",
    "pathfigs = '/Users/cab16109/Dropbox/Work/higal_cmz/PAPER/ALL_figures/'"
   ]
  },
  {
   "cell_type": "code",
   "execution_count": 42,
   "id": "d9f7c8ee-e198-4926-96a9-86b8dfec1f2d",
   "metadata": {},
   "outputs": [],
   "source": [
    "#sfr_table = '/Users/cab16109/Dropbox/Work/higal_cmz/PAPER/sfr_comparison.tex' # was hand made just for this comparison\n",
    "sfr_table = '/Users/cab16109/Dropbox/Work/higal_cmz/PAPER/FINAL_DATA_files_for_release/FINAL_tables/MEGATABLE/megatable.fits'"
   ]
  },
  {
   "cell_type": "code",
   "execution_count": 43,
   "id": "83fd11ce-27cc-461b-a0ca-0b7087f20677",
   "metadata": {},
   "outputs": [],
   "source": [
    "from astropy.table import Table\n",
    "#data = ascii.read(sfr_table, data_start=2, delimiter='&') \n",
    "#t = Table.read(sfr_table, data_start=1, delimiter='&') \n",
    "t = Table.read(sfr_table)"
   ]
  },
  {
   "cell_type": "code",
   "execution_count": 44,
   "id": "ce6bc67a-00b7-4c17-85dd-4ea95b71f643",
   "metadata": {},
   "outputs": [
    {
     "data": {
      "text/plain": [
       "<TableColumns names=('Name','ID','Paper III ID','CMZoom region','Area','l','b','Median N_H2','Peak N_H2','Mass','Radius','Density','Median T_dust','Peak T_dust','HNCO mom0','HCN mom0','HC3N mom0','HNCO mom1','HCN mom1','HC3N mom1','HNCO FWHM','HCN FWHM','HC3N FWHM','Total Luminosity (Cool)','Average Luminosity (Cool)','Total Luminosity (Warm)','Average Luminosity (Warm)','Total IR Luminosity','Total IR SFR','SFR (free fall)','SFR CMZoom (Herschel temp)','Error SFR CMZoom (Herschel temp)','SFR CMZoom (50 K)','Error SFR CMZoom (50 K)','Best SFR estimate','x_min (N_H_2)','PL slope','PL error','SFR method','Colloquial name / description')>"
      ]
     },
     "execution_count": 44,
     "metadata": {},
     "output_type": "execute_result"
    }
   ],
   "source": [
    "t.columns"
   ]
  },
  {
   "cell_type": "code",
   "execution_count": 45,
   "id": "41f1bc31-4eaf-49a4-8098-2020646e8f52",
   "metadata": {},
   "outputs": [],
   "source": [
    "# set quantity to first row\n",
    "num_rows = len(t[0][:])\n",
    "for i in range(num_rows):\n",
    "    t[i].quantity = t[i][0]\n",
    "\n",
    "#then remove that row\n",
    "t.remove_row(0)\n",
    "#t.remove_row(1)"
   ]
  },
  {
   "cell_type": "code",
   "execution_count": 46,
   "id": "72d77e7e-19f7-4ea0-b6e7-b18bd1a509c9",
   "metadata": {},
   "outputs": [],
   "source": [
    "plslope = t.columns['PL slope']\n",
    "cmzoom = t.columns['SFR CMZoom (Herschel temp)']\n",
    "error = t.columns['Error SFR CMZoom (Herschel temp)']\n",
    "cmzoom50 = t.columns['SFR CMZoom (50 K)']\n",
    "err50 = t.columns['Error SFR CMZoom (50 K)']\n",
    "ff = t.columns['SFR (free fall)']\n",
    "ir = t.columns['Total IR SFR']"
   ]
  },
  {
   "cell_type": "code",
   "execution_count": 47,
   "id": "7349ea29-4311-4ebd-9116-7e99fbd81cbc",
   "metadata": {},
   "outputs": [],
   "source": [
    "#print(t.columns['ID'][idx1])\n",
    "#bad were numbers 36 (20km/s cloud), 51 (cloud d), 40 (stone), 52 (cloud c)"
   ]
  },
  {
   "cell_type": "code",
   "execution_count": 49,
   "id": "cc5b7625-0f39-407f-952b-3992d485a6ba",
   "metadata": {},
   "outputs": [
    {
     "ename": "ValueError",
     "evalue": "could not convert string to float: b''",
     "output_type": "error",
     "traceback": [
      "\u001b[0;31m---------------------------------------------------------------------------\u001b[0m",
      "\u001b[0;31mValueError\u001b[0m                                Traceback (most recent call last)",
      "Cell \u001b[0;32mIn[49], line 3\u001b[0m\n\u001b[1;32m      1\u001b[0m plslope[plslope\u001b[38;5;241m==\u001b[39m\u001b[38;5;241m0\u001b[39m] \u001b[38;5;241m=\u001b[39m np\u001b[38;5;241m.\u001b[39mnan\n\u001b[1;32m      2\u001b[0m plslope[plslope\u001b[38;5;241m==\u001b[39m\u001b[38;5;124m'\u001b[39m\u001b[38;5;124m-\u001b[39m\u001b[38;5;124m'\u001b[39m] \u001b[38;5;241m=\u001b[39m np\u001b[38;5;241m.\u001b[39mnan\n\u001b[0;32m----> 3\u001b[0m plslope \u001b[38;5;241m=\u001b[39m np\u001b[38;5;241m.\u001b[39marray(plslope, dtype\u001b[38;5;241m=\u001b[39mnp\u001b[38;5;241m.\u001b[39mdouble)\n\u001b[1;32m      5\u001b[0m ff[ff\u001b[38;5;241m==\u001b[39m\u001b[38;5;241m0\u001b[39m] \u001b[38;5;241m=\u001b[39m np\u001b[38;5;241m.\u001b[39mnan\n\u001b[1;32m      6\u001b[0m ff[ff\u001b[38;5;241m==\u001b[39m\u001b[38;5;124m'\u001b[39m\u001b[38;5;124m-\u001b[39m\u001b[38;5;124m'\u001b[39m] \u001b[38;5;241m=\u001b[39m np\u001b[38;5;241m.\u001b[39mnan\n",
      "\u001b[0;31mValueError\u001b[0m: could not convert string to float: b''"
     ]
    }
   ],
   "source": [
    "\n",
    "ff[ff==0] = np.nan\n",
    "ff[ff=='-'] = np.nan\n",
    "ff = np.array(ff, dtype=np.double)\n",
    "\n",
    "ir[ir==0] = np.nan\n",
    "ir[ir=='-'] = np.nan\n",
    "ir = np.array(ir, dtype=np.double)\n",
    "\n",
    "cmzoom[cmzoom==0] = np.nan\n",
    "cmzoom[cmzoom=='-'] = np.nan\n",
    "cmzoom = np.array(cmzoom, dtype=np.double)\n",
    "\n",
    "error[error==0] = np.nan\n",
    "error[error=='-'] = np.nan\n",
    "error = np.array(error, dtype=np.double)\n",
    "\n",
    "cmzoom50[cmzoom50==0] = np.nan\n",
    "cmzoom50[cmzoom50=='-'] = np.nan\n",
    "cmzoom50 = np.array(cmzoom50, dtype=np.double)\n",
    "\n",
    "err50[err50==0] = np.nan\n",
    "err50[err50=='-'] = np.nan\n",
    "err50 = np.array(err50, dtype=np.double)\n",
    "\n",
    "idx1 = np.isfinite(cmzoom)\n",
    "\n",
    "#idx2 = np.isfinite(error)\n",
    "#idx3 = np.isfinite(cmzoom50)\n",
    "#idx4 = np.isfinite(err50)\n",
    "#idx5 = np.isfinite(ff)\n",
    "#idx6 = np.isfinite(plslope)\n",
    "\n",
    "#print(idx1, idx2, idx3, idx4, idx5)\n"
   ]
  },
  {
   "cell_type": "code",
   "execution_count": null,
   "id": "a873c555-3952-44aa-9217-7e743076d70a",
   "metadata": {},
   "outputs": [],
   "source": [
    "plt.style.use('seaborn-v0_8-colorblind')\n",
    "plt.rcParams.update({'font.size': 18}) #set fontsize\n",
    "fig = plt.figure(1,figsize=(13,4))\n",
    "\n",
    "# Plot data\n",
    "#plt.plot(ff, cmzoom, ls='',marker='o',color='magenta',\n",
    "#            markersize='7',markeredgecolor='k', label='label')\n",
    "plt.errorbar(ff[idx1], cmzoom[idx1], yerr=error[idx1], ls='',marker='o',color='mediumpurple',\n",
    "             ecolor='mediumpurple',markersize='7',markeredgecolor='k', label='CMZoom - Herschel temp')\n",
    "\n",
    "#With 50 K SFR estimates\n",
    "plt.errorbar(ff[idx1], cmzoom50[idx1], yerr=err50[idx1], ls='',marker='*',color='lightseagreen', alpha=0.7,\n",
    "             ecolor='lightseagreen',markersize='7',markeredgecolor='k', label='CMZoom - 50 K')\n",
    "\n",
    "\n",
    "\n",
    "plt.xlabel(r'SFR Free-Fall [M$_\\odot$ / yr]', **{'fontname':'Georgia'},fontsize=18)\n",
    "plt.ylabel(r'SFR CMZoom [M$_\\odot$ / yr]', **{'fontname':'Georgia'},fontsize=18)\n",
    "\n",
    "# one-one line\n",
    "xvals = np.linspace(0, 0.013, 100)\n",
    "yvals = xvals\n",
    "plt.plot(xvals, yvals, ls='--', color='darkgray', label='1:1')\n",
    "\n",
    "plt.legend(loc='upper left',fontsize=10)\n",
    "\n",
    "plt.xlim(0,0.013)\n",
    "plt.yscale('log')\n",
    "\n",
    "plt.text(0.0105, 0.012, '1:1', color='darkgray',**{'fontname':'Georgia'},fontsize=18)\n",
    "\n",
    "outfile = pathfigs+'SFR_YLOG_cmzoom_comparison_v2.pdf'\n",
    "plt.savefig(outfile, format='pdf', dpi=300, bbox_inches='tight')\n",
    "plt.show()"
   ]
  },
  {
   "cell_type": "code",
   "execution_count": null,
   "id": "f1c89a27-5e42-47df-934e-88b350266955",
   "metadata": {},
   "outputs": [],
   "source": []
  },
  {
   "cell_type": "code",
   "execution_count": null,
   "id": "d1595d55-c526-4d6a-9e54-e1d7e44390e9",
   "metadata": {},
   "outputs": [],
   "source": [
    "plt.style.use('seaborn-v0_8-colorblind')\n",
    "plt.rcParams.update({'font.size': 18}) #set fontsize\n",
    "fig = plt.figure(1,figsize=(13,4))\n",
    "\n",
    "# Plot data\n",
    "#With 50 K SFR estimates\n",
    "plt.errorbar(ff[idx1], cmzoom50[idx1], yerr=err50[idx1], ls='',marker='*',color='lightseagreen', alpha=0.7,\n",
    "             ecolor='lightseagreen',markersize='10',markeredgecolor='k', label='CMZoom - 50 K')\n",
    "#standard herschel temperature\n",
    "plt.errorbar(ff[idx1], cmzoom[idx1], yerr=error[idx1], ls='',marker='o',color='mediumpurple',\n",
    "             ecolor='mediumpurple',markersize='7',markeredgecolor='k', label='CMZoom - Herschel temp')\n",
    "\n",
    "\n",
    "\n",
    "plt.xlabel(r'SFR Free-Fall [M$_\\odot$ / yr]', **{'fontname':'Georgia'},fontsize=18)\n",
    "plt.ylabel(r'SFR CMZoom [M$_\\odot$ / yr]', **{'fontname':'Georgia'},fontsize=18)\n",
    "\n",
    "# one-one line\n",
    "xvals = np.linspace(0, 0.013, 100)\n",
    "yvals = xvals\n",
    "plt.plot(xvals, yvals, ls='--', color='darkgray', label='1:1')\n",
    "plt.legend(loc='upper left',fontsize=12)\n",
    "\n",
    "plt.xlim(0,0.013)\n",
    "\n",
    "plt.text(0.0105, 0.012, '1:1', color='darkgray',**{'fontname':'Georgia'},fontsize=18)\n",
    "\n",
    "outfile = pathfigs+'SFR_cmzoom_comparison_v2.pdf'\n",
    "plt.savefig(outfile, format='pdf', dpi=300, bbox_inches='tight')\n",
    "plt.show()\n",
    "\n"
   ]
  },
  {
   "cell_type": "code",
   "execution_count": null,
   "id": "ef8c9ab0-8bb9-4034-a3cd-3aeb0375cc3c",
   "metadata": {},
   "outputs": [],
   "source": [
    "# plain CMZoom and 50 K cmzoom comparisons\n",
    "\n",
    "plt.style.use('seaborn-v0_8-colorblind')\n",
    "plt.rcParams.update({'font.size': 18}) #set fontsize\n",
    "\n",
    "fig, (ax1, ax2) = plt.subplots(2, sharex=True, figsize=(13,8), constrained_layout = True)\n",
    "\n",
    "ax1.errorbar(ff[idx1], cmzoom[idx1], yerr=error[idx1], ls='',marker='o', color='mediumpurple',\n",
    "             ecolor='darkgray',markersize='10',markeredgecolor='k')\n",
    "\n",
    "ax2.errorbar(ff[idx1], cmzoom[idx1], yerr=error[idx1], ls='',marker='o', color='mediumpurple',\n",
    "             ecolor='darkgray',markersize='10',markeredgecolor='k')\n",
    "ax2.errorbar(ff[idx1], cmzoom50[idx1], yerr=err50[idx1], ls='',marker='*',color='lightseagreen', alpha=0.7,\n",
    "             ecolor='darkgray',markersize='10',markeredgecolor='k', label='label')\n",
    "#ax2.plot(ff, ir, ls='',marker='o', color='darkturquoise',\n",
    "#            markersize='10',markeredgecolor='k')\n",
    "\n",
    "# one-one line\n",
    "xvals = np.linspace(0, 0.030, 100)\n",
    "yvals = xvals\n",
    "ax1.plot(xvals, yvals, ls='--', color='darkgray', label='one-one')\n",
    "ax2.plot(xvals, yvals, ls='--', color='darkgray', label='one-one')\n",
    "\n",
    "ax1.set_xlim([0,0.013])\n",
    "\n",
    "ax2.set_xlabel(r'SFR Free-Fall [M$_\\odot$/yr]', **{'fontname':'Georgia'},fontsize=18)\n",
    "ax2.set_ylabel(r'SFR Total IR [M$_\\odot$/yr]', **{'fontname':'Georgia'},fontsize=18)\n",
    "ax1.set_ylabel(r'SFR CMZoom [M$_\\odot$/yr]', **{'fontname':'Georgia'},fontsize=18)\n",
    "\n",
    "ax1.text(0.0105, 0.012, '1:1', color='darkgray',**{'fontname':'Georgia'},fontsize=18)\n",
    "ax2.text(0.0105, 0.012, '1:1', color='darkgray',**{'fontname':'Georgia'},fontsize=18)\n",
    "\n",
    "outfile = pathfigs+'SFR_comparison.pdf'\n",
    "plt.savefig(outfile, format='pdf', dpi=300)#, bbox_inches='tight')\n",
    "plt.show()"
   ]
  },
  {
   "cell_type": "code",
   "execution_count": null,
   "id": "affdb8f8-cc29-4d4b-8604-68b200cc37c9",
   "metadata": {},
   "outputs": [],
   "source": [
    "##Original - free free, cmzoom, and IR comparisons\n",
    "\n",
    "plt.style.use('seaborn-v0_8-colorblind')\n",
    "plt.rcParams.update({'font.size': 18}) #set fontsize\n",
    "\n",
    "fig, (ax1, ax2) = plt.subplots(2, sharex=True, figsize=(13,8), constrained_layout = True)\n",
    "\n",
    "ax1.errorbar(ff[idx1], cmzoom[idx1], yerr=error[idx1], ls='',marker='o', color='mediumpurple',\n",
    "             ecolor='darkgray',markersize='10',markeredgecolor='k')\n",
    "ax2.plot(ff[idx1], ir[idx1], ls='',marker='o', color='darkturquoise',\n",
    "            markersize='10',markeredgecolor='k')\n",
    "\n",
    "# one-one line\n",
    "xvals = np.linspace(0, 0.030, 100)\n",
    "yvals = xvals\n",
    "ax1.plot(xvals, yvals, ls='--', color='darkgray', label='one-one')\n",
    "ax2.plot(xvals, yvals, ls='--', color='darkgray', label='one-one')\n",
    "\n",
    "ax1.set_xlim([0, 0.027])\n",
    "\n",
    "ax2.set_xlabel(r'SFR Free-Fall [M$_\\odot$/yr]', **{'fontname':'Georgia'},fontsize=18)\n",
    "ax2.set_ylabel(r'SFR Total IR [M$_\\odot$/yr]', **{'fontname':'Georgia'},fontsize=18)\n",
    "ax1.set_ylabel(r'SFR CMZoom [M$_\\odot$/yr]', **{'fontname':'Georgia'},fontsize=18)\n",
    "\n",
    "ax1.text(0.020, 0.015, '1:1', color='darkgray',**{'fontname':'Georgia'},fontsize=14)\n",
    "ax2.text(0.020, 0.018, '1:1', color='darkgray',**{'fontname':'Georgia'},fontsize=14)\n",
    "\n",
    "outfile = pathfigs+'SFR_comparison.pdf'\n",
    "plt.savefig(outfile, format='pdf', dpi=300)#, bbox_inches='tight')\n",
    "plt.show()"
   ]
  },
  {
   "cell_type": "code",
   "execution_count": null,
   "id": "890b935a-fc26-4509-99e6-da602bc746d3",
   "metadata": {},
   "outputs": [],
   "source": []
  }
 ],
 "metadata": {
  "kernelspec": {
   "display_name": "Python 3 (ipykernel)",
   "language": "python",
   "name": "python3"
  },
  "language_info": {
   "codemirror_mode": {
    "name": "ipython",
    "version": 3
   },
   "file_extension": ".py",
   "mimetype": "text/x-python",
   "name": "python",
   "nbconvert_exporter": "python",
   "pygments_lexer": "ipython3",
   "version": "3.11.7"
  }
 },
 "nbformat": 4,
 "nbformat_minor": 5
}
