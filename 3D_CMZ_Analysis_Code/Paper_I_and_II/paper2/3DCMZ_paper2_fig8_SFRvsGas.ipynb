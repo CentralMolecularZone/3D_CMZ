{
 "cells": [
  {
   "cell_type": "code",
   "execution_count": 1,
   "id": "1f67d768",
   "metadata": {},
   "outputs": [],
   "source": [
    "from __future__ import division\n",
    "import pandas as pd\n",
    "import numpy as np\n",
    "from astropy import units as u\n",
    "from astropy import constants as const\n",
    "from astropy.table import Table\n",
    "import matplotlib.pyplot as plt\n",
    "import matplotlib as mpl\n",
    "import astropy.io.ascii as asciitable\n",
    "from astropy.io import ascii\n",
    "\n",
    "\n",
    "from __future__ import division\n",
    "import pandas as pd\n",
    "import numpy as np\n",
    "from astropy import units as u\n",
    "from astropy import constants as const\n",
    "from astropy.table import Table, join\n",
    "import matplotlib.pyplot as plt\n",
    "import matplotlib as mpl\n",
    "import astropy.io.ascii as asciitable\n",
    "from astropy.io import ascii\n",
    "import astropy.units as au\n",
    "\n",
    "import warnings\n",
    "warnings.filterwarnings('ignore')\n",
    "\n",
    "mpl.rcParams['mathtext.fontset'] = \"cm\" \n",
    "\n"
   ]
  },
  {
   "cell_type": "code",
   "execution_count": 2,
   "id": "4f5a377d",
   "metadata": {},
   "outputs": [],
   "source": [
    "# Define unit conversions\n",
    "pc=3.09e18\n",
    "kpc=1e3*pc\n",
    "msun=1.99e33\n",
    "myr=3.16e13\n",
    "g=6.67e-8\n",
    "msunpc2=msun/pc**2\n",
    "msunpc2myr=msunpc2/myr\n",
    "\n",
    "# Choice of CO alpha factor scalings NORMALIZED TO DADDI'S CONVENTIONS\n",
    "alphasb = 1.0      # starburst value\n",
    "alphahiz = 1.0     # high-z disk\n",
    "alphaz0 = 1.0      # z=0 scaling\n",
    "alphathings = 4.6/4.4 # THINGS data value\n",
    "\n",
    "# Parameters\n",
    "sigmagmc=85*msun/pc**2    # GMC surface density in normal galaxies\n",
    "phip=3.0                  # pressure normalized to isothermal gas disk value\n",
    "vdisp1=0.8e6                # ISM velocity dispersion in local galaxies\n",
    "vdisp2=3e6                # ISM velocity dispersion in high-z galaxies and SBs\n",
    "q=1.0                     # Toomre Q\n",
    "betasb=1.0                # Index of rotation curve in SBs (solid body)\n",
    "betadisk=0.0              # Index of rotation curve in normal disks (flat)"
   ]
  },
  {
   "cell_type": "markdown",
   "id": "c0539ca4",
   "metadata": {},
   "source": [
    "# Code for Figure 12 in Cara's paper"
   ]
  },
  {
   "cell_type": "code",
   "execution_count": 3,
   "id": "fb342055",
   "metadata": {},
   "outputs": [],
   "source": [
    "# Star Formation Rate vs Gas\n",
    "cmz_clouds_starFormationRate = Table.read('MEGATABLE.csv').to_pandas()\n",
    "cmz_clouds_starFormationRate=cmz_clouds_starFormationRate.sort_values('ID')\n",
    "cmz_clouds_starFormationRate = cmz_clouds_starFormationRate.set_index('ID').reset_index()\n",
    "cmz_clouds_starFormationRate = cmz_clouds_starFormationRate[['Best SFR estimate','SFR (free fall)', 'SFR CMZoom (Herschel temp)','Total IR SFR', 'Area']]\n",
    "#drop= cmz_clouds_starFormationRate.index[cmz_clouds_starFormationRate['Best SFR estimate'] == ' ' ]\n",
    "drop=cmz_clouds_starFormationRate.index[cmz_clouds_starFormationRate['Best SFR estimate'].isnull()]\n",
    "droplist=drop.tolist()\n",
    "cmz_clouds_starFormationRate = cmz_clouds_starFormationRate.drop(labels=droplist, axis=0)\n",
    "cmz_clouds_starFormationRate= cmz_clouds_starFormationRate.drop(cmz_clouds_starFormationRate.index[len(cmz_clouds_starFormationRate)-1]) #drop last row with units\n",
    "\n",
    "\n",
    "cmz_clouds_physical = Table.read('cmz_cloud_physical_properties.tex').to_pandas()\n",
    "cmz_clouds_mass = cmz_clouds_physical.set_index('Structure').reset_index()\n",
    "cmz_clouds_mass = cmz_clouds_mass['Mass']\n",
    "cmz_clouds_mass = cmz_clouds_mass.drop(labels=0, axis=0)\n",
    "cmz_clouds_mass = cmz_clouds_mass.reset_index(drop=True)\n",
    "cmz_clouds_mass = cmz_clouds_mass.drop(labels=droplist, axis=0)\n",
    "\n",
    "\n",
    "cmz_clouds_area = cmz_clouds_physical.set_index('Structure').reset_index()\n",
    "cmz_clouds_area = cmz_clouds_area['Area']\n",
    "cmz_clouds_area = cmz_clouds_area.drop(labels=0, axis=0)\n",
    "cmz_clouds_area = cmz_clouds_area.reset_index(drop=True)\n",
    "cmz_clouds_area = cmz_clouds_area.drop(labels=droplist, axis=0)"
   ]
  },
  {
   "cell_type": "code",
   "execution_count": 4,
   "id": "6b02a8c2",
   "metadata": {},
   "outputs": [
    {
     "name": "stdout",
     "output_type": "stream",
     "text": [
      "   Best SFR estimate SFR (free fall) SFR CMZoom (Herschel temp) Total IR SFR  \\\n",
      "0            2.7E-03         2.7E-03                        NaN      1.1E-04   \n",
      "1            6.0E-08             NaN                        NaN      6.0E-08   \n",
      "2            6.1E-04         6.1E-04                        NaN      4.8E-06   \n",
      "4            7.9E-04         7.9E-04                        NaN      1.2E-05   \n",
      "5            1.6E-03         1.6E-03                        NaN      5.2E-05   \n",
      "6            1.0E-03         1.0E-03                        NaN      2.6E-05   \n",
      "7            7.0E-04         7.0E-04                        NaN      6.6E-06   \n",
      "8            3.5E-02             NaN                        NaN      3.5E-02   \n",
      "9            3.0E-02             NaN                        NaN      3.0E-02   \n",
      "10           6.9E-04         6.9E-04                        NaN      9.5E-06   \n",
      "11           1.3E-02             NaN                        NaN      1.3E-02   \n",
      "12           1.1E-02             NaN                        NaN      1.1E-02   \n",
      "13           1.0E-02             NaN                        NaN      1.0E-02   \n",
      "14           8.4E-03             NaN                        NaN      8.4E-03   \n",
      "15           6.8E-03             NaN                        NaN      6.8E-03   \n",
      "16           2.2E-03         2.2E-03                        NaN      8.6E-05   \n",
      "17           4.9E-03             NaN                        NaN      4.9E-03   \n",
      "19           1.2E-02             NaN                        NaN      1.2E-02   \n",
      "20           4.6E-03         4.6E-03                        NaN      2.3E-04   \n",
      "21           5.6E-03         5.6E-03                        NaN      2.8E-04   \n",
      "22           2.7E-03         2.7E-03                        NaN      1.0E-04   \n",
      "23           6.2E-04             NaN                        NaN      6.2E-04   \n",
      "24           7.7E-03         7.7E-03                        NaN      1.2E-03   \n",
      "27           9.3E-03             NaN                        NaN      9.3E-03   \n",
      "28           4.7E-03         4.7E-03                        NaN      3.7E-04   \n",
      "30           1.4E-02         8.7E-03                    1.4E-02      3.9E-04   \n",
      "33           7.1E-03         4.9E-03                    7.1E-03      2.7E-04   \n",
      "36           9.2E-03         1.2E-02                    5.1E-02      4.8E-04   \n",
      "38           4.0E-04         6.3E-03                    4.0E-04      1.4E-04   \n",
      "39           5.4E-03         5.4E-03                        NaN      2.8E-04   \n",
      "40           6.4E-03         6.1E-03                    6.4E-03      8.8E-05   \n",
      "41           6.3E-03         9.4E-03                    6.3E-03      2.3E-04   \n",
      "42           1.5E-03         1.6E-03                    1.5E-03      1.9E-05   \n",
      "43           2.6E-02         2.6E-02                        NaN      9.2E-04   \n",
      "45           9.5E-03         9.5E-03                        NaN      1.2E-03   \n",
      "46           1.7E-03         4.7E-03                    1.7E-03      2.1E-04   \n",
      "47           5.0E-03         2.0E-03                    5.0E-03      2.6E-05   \n",
      "48           1.7E-02         8.2E-03                    1.7E-02      2.1E-04   \n",
      "49           4.1E-03         4.1E-03                        NaN      2.2E-05   \n",
      "51           2.7E-03         4.5E-03                    2.7E-03      8.2E-05   \n",
      "52           1.0E-02         3.3E-03                    3.9E-02      3.6E-05   \n",
      "53           3.5E-03         3.5E-03                        NaN      8.1E-05   \n",
      "54           1.9E-03         1.9E-03                        NaN      5.7E-05   \n",
      "55           2.3E-04         2.3E-04                        NaN      3.2E-07   \n",
      "56           2.0E-04         2.0E-04                        NaN      3.2E-07   \n",
      "\n",
      "       Area  \n",
      "0   7.0E+01  \n",
      "1   7.0E+00  \n",
      "2   1.1E+01  \n",
      "4   3.2E+01  \n",
      "5   5.8E+01  \n",
      "6   1.2E+02  \n",
      "7   1.7E+01  \n",
      "8   1.3E+04  \n",
      "9   1.1E+04  \n",
      "10  3.4E+01  \n",
      "11  7.0E+03  \n",
      "12  5.0E+03  \n",
      "13  4.6E+03  \n",
      "14  3.6E+03  \n",
      "15  2.6E+03  \n",
      "16  7.6E+01  \n",
      "17  1.3E+03  \n",
      "19  2.0E+03  \n",
      "20  6.6E+01  \n",
      "21  1.3E+02  \n",
      "22  3.4E+01  \n",
      "23  1.3E+03  \n",
      "24  2.4E+02  \n",
      "27  1.4E+03  \n",
      "28  9.8E+01  \n",
      "30  1.0E+02  \n",
      "33  2.2E+02  \n",
      "36  7.8E+01  \n",
      "38  2.0E+01  \n",
      "39  1.5E+02  \n",
      "40  1.2E+01  \n",
      "41  2.2E+01  \n",
      "42  4.4E+01  \n",
      "43  1.0E+02  \n",
      "45  1.6E+02  \n",
      "46  5.0E+01  \n",
      "47  4.4E+01  \n",
      "48  5.4E+01  \n",
      "49  6.0E+00  \n",
      "51  2.6E+01  \n",
      "52  9.0E+00  \n",
      "53  2.0E+01  \n",
      "54  3.8E+01  \n",
      "55  8.0E+00  \n",
      "56  1.4E+01  \n"
     ]
    }
   ],
   "source": [
    "print(cmz_clouds_starFormationRate)"
   ]
  },
  {
   "cell_type": "code",
   "execution_count": 5,
   "id": "9134f969",
   "metadata": {},
   "outputs": [
    {
     "name": "stdout",
     "output_type": "stream",
     "text": [
      "0        70\n",
      "1         7\n",
      "2        11\n",
      "4        32\n",
      "5        58\n",
      "6       116\n",
      "7        17\n",
      "8     13191\n",
      "9     10992\n",
      "10       34\n",
      "11     6995\n",
      "12     4996\n",
      "13     4597\n",
      "14     3597\n",
      "15     2598\n",
      "16       76\n",
      "17     1259\n",
      "19     1999\n",
      "20       66\n",
      "21      128\n",
      "22       34\n",
      "23     1339\n",
      "24      240\n",
      "27     1399\n",
      "28       98\n",
      "30      102\n",
      "33      220\n",
      "36       78\n",
      "38       20\n",
      "39      148\n",
      "40       12\n",
      "41       22\n",
      "42       44\n",
      "43      104\n",
      "45      164\n",
      "46       50\n",
      "47       44\n",
      "48       54\n",
      "49        6\n",
      "51       26\n",
      "52        9\n",
      "53       20\n",
      "54       38\n",
      "55        8\n",
      "56       14\n",
      "Name: Area, dtype: object\n"
     ]
    }
   ],
   "source": [
    "print(cmz_clouds_area)"
   ]
  },
  {
   "cell_type": "code",
   "execution_count": 6,
   "id": "1ac850ab",
   "metadata": {},
   "outputs": [],
   "source": [
    "#determining which method was used to find the SFR\n",
    "drop_ffSFR= cmz_clouds_starFormationRate.index[cmz_clouds_starFormationRate['Best SFR estimate'] != cmz_clouds_starFormationRate['SFR (free fall)']].tolist()\n",
    "ffSFR=(cmz_clouds_starFormationRate.drop(labels=drop_ffSFR, axis=0))\n",
    "ffSFR=(ffSFR['Best SFR estimate'].values.astype(float)).tolist()\n",
    "ffmass= cmz_clouds_mass.drop(labels=drop_ffSFR, axis=0).values.astype(float).tolist()\n",
    "ffarea= cmz_clouds_area.drop(labels=drop_ffSFR, axis=0).values.astype(float).tolist()\n",
    "ffSFR_list=[]\n",
    "ffgas=[]\n",
    "for i in range(len(ffSFR)):\n",
    "    ffSFR_list.append(ffSFR[i]/(ffarea[i]/1000000))\n",
    "for i in range(len(ffSFR)):\n",
    "    ffgas.append(ffmass[i]/ffarea[i])\n",
    "\n",
    "\n",
    "drop_cmSFR= cmz_clouds_starFormationRate.index[cmz_clouds_starFormationRate['Best SFR estimate'] != cmz_clouds_starFormationRate['SFR CMZoom (Herschel temp)']].tolist()\n",
    "cmSFR=(cmz_clouds_starFormationRate.drop(labels=drop_cmSFR, axis=0))\n",
    "cmSFR=(cmSFR['Best SFR estimate'].values.astype(float)).tolist()\n",
    "cmmass= (cmz_clouds_mass.drop(labels=drop_cmSFR, axis=0)).values.astype(float).tolist()\n",
    "cmarea= cmz_clouds_area.drop(labels=drop_cmSFR, axis=0).values.astype(float).tolist()\n",
    "cmSFR_list=[]\n",
    "cmgas=[]\n",
    "for i in range(len(cmSFR)):\n",
    "    cmSFR_list.append(cmSFR[i]/(cmarea[i]/1000000))\n",
    "for i in range(len(cmSFR)):\n",
    "    cmgas.append(cmmass[i]/cmarea[i])\n",
    "\n",
    "cmz_clouds_starFormationRate['Best SFR estimate'] = cmz_clouds_starFormationRate['Best SFR estimate'].astype(float)\n",
    "cmz_clouds_starFormationRate['Total IR SFR'] = cmz_clouds_starFormationRate['Total IR SFR'].astype(float)\n",
    "drop_irSFR= cmz_clouds_starFormationRate.index[cmz_clouds_starFormationRate['Best SFR estimate'] != cmz_clouds_starFormationRate['Total IR SFR']].tolist()\n",
    "irSFR=cmz_clouds_starFormationRate.drop(labels=drop_irSFR, axis=0)\n",
    "irSFR=(irSFR['Best SFR estimate'].values.astype(float)).tolist()\n",
    "irmass= cmz_clouds_mass.drop(labels=drop_irSFR, axis=0).values.astype(float).tolist()\n",
    "irarea= cmz_clouds_area.drop(labels=drop_irSFR, axis=0).values.astype(float).tolist()\n",
    "irSFR_list=[]\n",
    "irgas=[]\n",
    "for i in range(len(irSFR)):\n",
    "    irSFR_list.append(irSFR[i]/(irarea[i]/1000000))\n",
    "for i in range(len(irSFR)):\n",
    "    irgas.append(irmass[i]/irarea[i])"
   ]
  },
  {
   "cell_type": "code",
   "execution_count": 7,
   "id": "b37a7854",
   "metadata": {},
   "outputs": [],
   "source": [
    "cmz_clouds_starFormationRate['Area']=cmz_clouds_starFormationRate['Area'].values.astype(float)"
   ]
  },
  {
   "cell_type": "code",
   "execution_count": 8,
   "id": "b3a57ed5",
   "metadata": {},
   "outputs": [
    {
     "name": "stdout",
     "output_type": "stream",
     "text": [
      "    Best SFR estimate SFR (free fall) SFR CMZoom (Herschel temp)  \\\n",
      "0        2.700000e-03         2.7E-03                        NaN   \n",
      "1        6.000000e-08             NaN                        NaN   \n",
      "2        6.100000e-04         6.1E-04                        NaN   \n",
      "4        7.900000e-04         7.9E-04                        NaN   \n",
      "5        1.600000e-03         1.6E-03                        NaN   \n",
      "6        1.000000e-03         1.0E-03                        NaN   \n",
      "7        7.000000e-04         7.0E-04                        NaN   \n",
      "10       6.900000e-04         6.9E-04                        NaN   \n",
      "16       2.200000e-03         2.2E-03                        NaN   \n",
      "20       4.600000e-03         4.6E-03                        NaN   \n",
      "21       5.600000e-03         5.6E-03                        NaN   \n",
      "22       2.700000e-03         2.7E-03                        NaN   \n",
      "24       7.700000e-03         7.7E-03                        NaN   \n",
      "28       4.700000e-03         4.7E-03                        NaN   \n",
      "30       1.400000e-02         8.7E-03                    1.4E-02   \n",
      "33       7.100000e-03         4.9E-03                    7.1E-03   \n",
      "36       9.200000e-03         1.2E-02                    5.1E-02   \n",
      "38       4.000000e-04         6.3E-03                    4.0E-04   \n",
      "39       5.400000e-03         5.4E-03                        NaN   \n",
      "40       6.400000e-03         6.1E-03                    6.4E-03   \n",
      "41       6.300000e-03         9.4E-03                    6.3E-03   \n",
      "42       1.500000e-03         1.6E-03                    1.5E-03   \n",
      "43       2.600000e-02         2.6E-02                        NaN   \n",
      "45       9.500000e-03         9.5E-03                        NaN   \n",
      "46       1.700000e-03         4.7E-03                    1.7E-03   \n",
      "47       5.000000e-03         2.0E-03                    5.0E-03   \n",
      "48       1.700000e-02         8.2E-03                    1.7E-02   \n",
      "49       4.100000e-03         4.1E-03                        NaN   \n",
      "51       2.700000e-03         4.5E-03                    2.7E-03   \n",
      "52       1.000000e-02         3.3E-03                    3.9E-02   \n",
      "53       3.500000e-03         3.5E-03                        NaN   \n",
      "54       1.900000e-03         1.9E-03                        NaN   \n",
      "55       2.300000e-04         2.3E-04                        NaN   \n",
      "56       2.000000e-04         2.0E-04                        NaN   \n",
      "\n",
      "    Total IR SFR   Area  \n",
      "0   1.100000e-04   70.0  \n",
      "1   6.000000e-08    7.0  \n",
      "2   4.800000e-06   11.0  \n",
      "4   1.200000e-05   32.0  \n",
      "5   5.200000e-05   58.0  \n",
      "6   2.600000e-05  120.0  \n",
      "7   6.600000e-06   17.0  \n",
      "10  9.500000e-06   34.0  \n",
      "16  8.600000e-05   76.0  \n",
      "20  2.300000e-04   66.0  \n",
      "21  2.800000e-04  130.0  \n",
      "22  1.000000e-04   34.0  \n",
      "24  1.200000e-03  240.0  \n",
      "28  3.700000e-04   98.0  \n",
      "30  3.900000e-04  100.0  \n",
      "33  2.700000e-04  220.0  \n",
      "36  4.800000e-04   78.0  \n",
      "38  1.400000e-04   20.0  \n",
      "39  2.800000e-04  150.0  \n",
      "40  8.800000e-05   12.0  \n",
      "41  2.300000e-04   22.0  \n",
      "42  1.900000e-05   44.0  \n",
      "43  9.200000e-04  100.0  \n",
      "45  1.200000e-03  160.0  \n",
      "46  2.100000e-04   50.0  \n",
      "47  2.600000e-05   44.0  \n",
      "48  2.100000e-04   54.0  \n",
      "49  2.200000e-05    6.0  \n",
      "51  8.200000e-05   26.0  \n",
      "52  3.600000e-05    9.0  \n",
      "53  8.100000e-05   20.0  \n",
      "54  5.700000e-05   38.0  \n",
      "55  3.200000e-07    8.0  \n",
      "56  3.200000e-07   14.0  \n"
     ]
    }
   ],
   "source": [
    "drop_leaves= cmz_clouds_starFormationRate.index[cmz_clouds_starFormationRate['Area']<4.3e2].tolist()\n",
    "branches_SFR=(cmz_clouds_starFormationRate.drop(labels=drop_leaves, axis=0))\n",
    "branches_SFR=(branches_SFR['Best SFR estimate'].values.astype(float)).tolist()\n",
    "branches_mass= cmz_clouds_mass.drop(labels=drop_leaves, axis=0).values.astype(float).tolist()\n",
    "branches_area= cmz_clouds_area.drop(labels=drop_leaves, axis=0).values.astype(float).tolist()\n",
    "branches_list=[]\n",
    "branches_gas=[]\n",
    "for i in range(len(branches_SFR)):\n",
    "    branches_list.append(branches_SFR[i]/(branches_area[i]/1000000))\n",
    "for i in range(len(branches_SFR)):\n",
    "    branches_gas.append(branches_mass[i]/branches_area[i])\n",
    "\n",
    "\n",
    "drop_branches= cmz_clouds_starFormationRate.index[cmz_clouds_starFormationRate['Area']>4.3e2].tolist()\n",
    "leaves_SFR=(cmz_clouds_starFormationRate.drop(labels=drop_branches, axis=0))\n",
    "print(leaves_SFR)\n",
    "leaves_SFR=(leaves_SFR['Best SFR estimate'].values.astype(float)).tolist()\n",
    "leaves_mass= (cmz_clouds_mass.drop(labels=drop_branches, axis=0)).values.astype(float).tolist()\n",
    "leaves_area= cmz_clouds_area.drop(labels=drop_branches, axis=0).values.astype(float).tolist()\n",
    "leaves_list=[]\n",
    "leaves_gas=[]\n",
    "for i in range(len(leaves_SFR)):\n",
    "    leaves_list.append(leaves_SFR[i]/(leaves_area[i]/1000000))\n",
    "for i in range(len(leaves_SFR)):\n",
    "    leaves_gas.append(leaves_mass[i]/leaves_area[i])"
   ]
  },
  {
   "cell_type": "code",
   "execution_count": 9,
   "id": "4c97eccb",
   "metadata": {},
   "outputs": [
    {
     "name": "stdout",
     "output_type": "stream",
     "text": [
      "[0.0027, 6e-08, 0.00061, 0.00079, 0.0016, 0.001, 0.0007, 0.00069, 0.0022, 0.0046, 0.0056, 0.0027, 0.0077, 0.0047, 0.014, 0.0071, 0.0092, 0.0004, 0.0054, 0.0064, 0.0063, 0.0015, 0.026, 0.0095, 0.0017, 0.005, 0.017, 0.0041, 0.0027, 0.01, 0.0035, 0.0019, 0.00023, 0.0002]\n"
     ]
    }
   ],
   "source": [
    "print(leaves_SFR)"
   ]
  },
  {
   "cell_type": "code",
   "execution_count": 10,
   "id": "51997a9f",
   "metadata": {},
   "outputs": [
    {
     "name": "stdout",
     "output_type": "stream",
     "text": [
      "[ 1.58626572 -2.06694679  1.74393715  1.39247711  1.44069199  0.93554201\n",
      "  1.61464912  1.30737017  1.46160909  1.8432139   1.64097806  1.89988485\n",
      "  1.50627948  1.68087178  2.13752786  1.50883567  2.07169322  1.30103\n",
      "  1.56213204  2.72699873  2.45691787  1.53263858  2.39794001  1.76287976\n",
      "  1.53147892  2.05551733  2.49805516  2.83463261  2.01639042  3.04575749\n",
      "  2.24303805  1.69897     1.45863785  1.15490196]\n"
     ]
    }
   ],
   "source": [
    "print(np.log10(leaves_list))"
   ]
  },
  {
   "cell_type": "code",
   "execution_count": 11,
   "id": "03ec1e2e",
   "metadata": {},
   "outputs": [
    {
     "name": "stdout",
     "output_type": "stream",
     "text": [
      "0        70\n",
      "1         7\n",
      "2        11\n",
      "4        32\n",
      "5        58\n",
      "6       116\n",
      "7        17\n",
      "8     13191\n",
      "9     10992\n",
      "10       34\n",
      "11     6995\n",
      "12     4996\n",
      "13     4597\n",
      "14     3597\n",
      "15     2598\n",
      "16       76\n",
      "17     1259\n",
      "19     1999\n",
      "20       66\n",
      "21      128\n",
      "22       34\n",
      "23     1339\n",
      "24      240\n",
      "27     1399\n",
      "28       98\n",
      "30      102\n",
      "33      220\n",
      "36       78\n",
      "38       20\n",
      "39      148\n",
      "40       12\n",
      "41       22\n",
      "42       44\n",
      "43      104\n",
      "45      164\n",
      "46       50\n",
      "47       44\n",
      "48       54\n",
      "49        6\n",
      "51       26\n",
      "52        9\n",
      "53       20\n",
      "54       38\n",
      "55        8\n",
      "56       14\n",
      "Name: Area, dtype: object\n"
     ]
    }
   ],
   "source": [
    "cmz_clouds_physical = Table.read('cmz_cloud_physical_properties.tex').to_pandas()\n",
    "print(cmz_clouds_area)"
   ]
  },
  {
   "cell_type": "code",
   "execution_count": 12,
   "id": "23bb985f",
   "metadata": {},
   "outputs": [
    {
     "data": {
      "image/png": "[encoded data removed]",
      "text/plain": [
       "<Figure size 720x576 with 1 Axes>"
      ]
     },
     "metadata": {
      "needs_background": "light"
     },
     "output_type": "display_data"
    }
   ],
   "source": [
    "fig = plt.figure(figsize = (10,8))\n",
    "ax = fig.add_subplot(111)\n",
    "ax.grid(alpha=0.5)"
   ]
  },
  {
   "cell_type": "code",
   "execution_count": 13,
   "id": "ed906024",
   "metadata": {},
   "outputs": [
    {
     "data": {
      "text/plain": [
       "(array([1.80821097, 1.76267856, 1.77232171, 1.87506126, 2.0211893 ,\n",
       "        1.95424251, 2.13987909, 1.96801571, 1.96567197, 1.83695674,\n",
       "        1.67669361, 1.95951838, 1.96425963, 1.73957234, 1.77158748,\n",
       "        1.82930377, 1.78031731, 1.69108149, 1.93043959, 2.13353891]),\n",
       " array([-0.21824463, -0.43533394,  0.04139269,  0.07554696,  0.38916608,\n",
       "         0.1172713 ,  0.5171959 , -0.68402965, -0.06854213, -0.11013828,\n",
       "        -1.44733178,  0.372912  ,  0.5276299 , -0.4225082 , -0.96657624,\n",
       "         0.22010809, -0.03857891, -0.35654732, -0.46470588,  0.30319606]))"
      ]
     },
     "execution_count": 13,
     "metadata": {},
     "output_type": "execute_result"
    }
   ],
   "source": [
    "#later used for plotting\n",
    "\n",
    "sigmag_heid=[]        # Gas surface density\n",
    "sigmasfr_heid=[]      # SFR surface density\n",
    "\n",
    "fp=open('./data/heiderman.txt', 'r')\n",
    "for line in fp:\n",
    "    spl=line.split()\n",
    "    sigmag_heid.append(float(spl[14]))\n",
    "    sigmasfr_heid.append(float(spl[20]))\n",
    "\n",
    "fp.close()\n",
    "sigmag_heid = np.array(sigmag_heid)*msun/pc**2\n",
    "sigmasfr_heid = np.array(sigmasfr_heid)*msun/pc**2/myr\n",
    "\n",
    "sigmag_heid = np.log10(sigmag_heid/msunpc2)\n",
    "sigmasfr_heid = np.log10(sigmasfr_heid/msunpc2myr)\n",
    "sigmag_heid,sigmasfr_heid"
   ]
  },
  {
   "cell_type": "code",
   "execution_count": 14,
   "id": "c6c59269",
   "metadata": {},
   "outputs": [],
   "source": [
    "\"\"\"literature properties - Lada\"\"\"\n",
    "\n",
    "# Lada data; masses for A_K = 0.1 and 0.8 contours\n",
    "mass_lada1=np.array([67714., 71828., 99930., 18438., 14964., 14165., 1137., 7937., 2157., 1379., 787.])*msun\n",
    "mass_lada2=np.array([13721., 7261., 3199., 1880., 1766., 1296., 258., 178., 163., 124., 75.])*msun\n",
    "sfr_lada=np.array([715., 159., 70., 150., 84., 79., 25., 5., 17., 3., 3.])*msun/myr\n",
    "\n",
    "sigmag_lada2=116.*2.*msun/pc**2\n",
    "sigmag_lada1=np.array([sigmag_lada2/8.0]*len(mass_lada2))\n",
    "area_lada1=mass_lada1/sigmag_lada1\n",
    "area_lada2=mass_lada2/sigmag_lada2\n",
    "sigmasfr_lada1=sfr_lada/area_lada1\n",
    "sigmasfr_lada2=sfr_lada/area_lada2/3.0\n",
    "\n",
    "sigmag_lada = np.log10(sigmag_lada1/msunpc2)\n",
    "sigmasfr_lada = np.log10(sigmasfr_lada1/msunpc2myr)"
   ]
  },
  {
   "cell_type": "code",
   "execution_count": 15,
   "id": "69b727a5",
   "metadata": {},
   "outputs": [],
   "source": [
    "\"\"\"literature properties - Genzel\"\"\"\n",
    "\n",
    "sigmag_genzel=[]\n",
    "sigmasfr_genzel=[]\n",
    "sigmagtdyn_genzel=[]\n",
    "sb_genzel=[]\n",
    "fp=open('./data/genzel_ks.dat', 'r')\n",
    "\n",
    "for line in fp:\n",
    "    if line[0]=='#':\n",
    "        continue\n",
    "    spl=line.split()\n",
    "    if spl[0]=='Name':\n",
    "        continue\n",
    "    sigmag_genzel.append(10.0**float(spl[11])*msun/pc**2)\n",
    "    sigmagtdyn_genzel.append(10.0**float(spl[12])/(2.0*np.pi)*msun/pc**2/myr)\n",
    "    sigmasfr_genzel.append(10.0**float(spl[13])*msun/pc**2/myr)\n",
    "    # Apply CO scalings\n",
    "    if spl[0][0:3]=='SMM':\n",
    "        # sub-mm galaxy, so use starburst scalings; Genzel uses alpha = 1.0\n",
    "        # for starbursts, and Daddi's convention is 0.8\n",
    "        sb_genzel.append(True)\n",
    "        sigmag_genzel[-1] = sigmag_genzel[-1]*0.8/1.0*alphasb\n",
    "        sigmagtdyn_genzel[-1] = sigmagtdyn_genzel[-1]*0.8/1.0*alphasb\n",
    "    else:\n",
    "        # non-sub-mm galaxy, so use normal high z scalings; Genzel uses\n",
    "        # alpha = 3.2, Daddi uses 3.6\n",
    "        sb_genzel.append(False)\n",
    "        sigmag_genzel[-1] = sigmag_genzel[-1]*3.6/3.2*alphahiz\n",
    "        sigmagtdyn_genzel[-1] = sigmagtdyn_genzel[-1]*3.6/3.2*alphahiz\n",
    "fp.close()\n",
    "\n",
    "sigmag_genzel = np.array(sigmag_genzel)\n",
    "sigmasfr_genzel = np.array(sigmasfr_genzel)\n",
    "\n",
    "sigmag_genzel = np.log10(sigmag_genzel/msunpc2)\n",
    "sigmasfr_genzel = np.log10(sigmasfr_genzel/msunpc2myr)"
   ]
  },
  {
   "cell_type": "code",
   "execution_count": 16,
   "id": "24806ed4",
   "metadata": {},
   "outputs": [],
   "source": [
    "\"\"\"literature properties - Bouche\"\"\"\n",
    "\n",
    "sigmag_bouche=[]\n",
    "sigmasfr_bouche=[]\n",
    "sigmagtdyn_bouche=[]\n",
    "fp=open('./data/KS_2_Bouche.dat', 'r')\n",
    "for line in fp:\n",
    "    if line[0]=='#':\n",
    "        continue\n",
    "    spl=line.split()\n",
    "    sigmag_bouche.append(10.0**float(spl[0])*msun/pc**2*alphasb)\n",
    "    sigmagtdyn_bouche.append(10.0**float(spl[2])/(2.0*np.pi)*msun/pc**2/myr * \n",
    "                             alphasb)\n",
    "    sigmasfr_bouche.append(10.0**float(spl[1])*msun/pc**2/myr)\n",
    "fp.close()\n",
    "\n",
    "sigmag_bouche = np.array(sigmag_bouche)\n",
    "sigmasfr_bouche = np.array(sigmasfr_bouche)\n",
    "\n",
    "sigmag_bouche = np.log10(sigmag_bouche/msunpc2)\n",
    "sigmasfr_bouche = np.log10(sigmasfr_bouche/msunpc2myr)"
   ]
  },
  {
   "cell_type": "code",
   "execution_count": 17,
   "id": "56d5e43e",
   "metadata": {},
   "outputs": [],
   "source": [
    "\"\"\"literature properties - Daddi z = 0.5\"\"\"\n",
    "\n",
    "sigmag_daddiz05=[]\n",
    "sigmasfr_daddiz05=[]\n",
    "sigmagtdyn_daddiz05=[]\n",
    "\n",
    "fp=open('./data/KS_2_Daddiz05.dat', 'r')\n",
    "for line in fp:\n",
    "    if line[0]=='#':\n",
    "        continue\n",
    "    if line[0]=='\\n':\n",
    "        continue\n",
    "    spl=line.split()\n",
    "    sigmag_daddiz05.append(10.0**float(spl[1])*msun/pc**2*alphahiz)\n",
    "    sigmagtdyn_daddiz05.append(10.0**float(spl[2])*msun/pc**2/myr * \n",
    "                               alphahiz)\n",
    "    sigmasfr_daddiz05.append(10.0**float(spl[0])*msun/pc**2/myr)\n",
    "fp.close()\n",
    "\n",
    "sigmag_daddiz05 = np.array(sigmag_daddiz05)\n",
    "sigmasfr_daddiz05 = np.array(sigmasfr_daddiz05)\n",
    "\n",
    "sigmag_daddiz05 = np.log10(sigmag_daddiz05/msunpc2)\n",
    "sigmasfr_daddiz05 = np.log10(sigmasfr_daddiz05/msunpc2myr)"
   ]
  },
  {
   "cell_type": "code",
   "execution_count": 18,
   "id": "9984658a",
   "metadata": {},
   "outputs": [],
   "source": [
    "\"\"\"literature properties - Daddi z = 2\"\"\"\n",
    "\n",
    "sigmag_daddiz2=[]\n",
    "sigmasfr_daddiz2=[]\n",
    "sigmagtdyn_daddiz2=[]\n",
    "\n",
    "fp=open('./data/KS_2_Daddi.dat', 'r')\n",
    "for line in fp:\n",
    "    if line[0]=='#':\n",
    "        continue\n",
    "    if line[0]=='\\n':\n",
    "        continue\n",
    "    spl=line.split()\n",
    "    sigmag_daddiz2.append(float(spl[0])*msun/pc**2*alphahiz)\n",
    "    sigmagtdyn_daddiz2.append(float(spl[2])*msun/pc**2/myr *alphahiz)\n",
    "    sigmasfr_daddiz2.append(float(spl[1])*msun/pc**2/myr)\n",
    "fp.close()\n",
    "\n",
    "sigmag_daddiz2 = np.array(sigmag_daddiz2)\n",
    "sigmasfr_daddiz2 = np.array(sigmasfr_daddiz2)\n",
    "\n",
    "sigmag_daddiz2 = np.log10(sigmag_daddiz2/msunpc2)\n",
    "sigmasfr_daddiz2 = np.log10(sigmasfr_daddiz2/msunpc2myr)"
   ]
  },
  {
   "cell_type": "code",
   "execution_count": 19,
   "id": "ff0c2e63",
   "metadata": {},
   "outputs": [],
   "source": [
    "\"\"\"literature properties - Tacconi\"\"\"\n",
    "\n",
    "sigmag_tacconi=[]\n",
    "sigmasfr_tacconi=[]\n",
    "sigmagtdyn_tacconi=[]\n",
    "\n",
    "fp=open('./data/Tacconi_KS.dat', 'r')\n",
    "for line in fp:\n",
    "    if line[0]=='#':\n",
    "        continue\n",
    "    if line[0]=='\\n':\n",
    "        continue\n",
    "    spl=line.split()\n",
    "    sigmag_tacconi.append(10.0**float(spl[1])*msun/pc**2*alphahiz)\n",
    "    sigmagtdyn_tacconi.append(10.0**float(spl[2])*msun/pc**2/myr * \n",
    "                              alphahiz)\n",
    "    sigmasfr_tacconi.append(10.0**float(spl[0])*msun/pc**2/myr)\n",
    "fp.close()\n",
    "\n",
    "sigmag_tacconi = np.array(sigmag_tacconi)\n",
    "sigmasfr_tacconi = np.array(sigmasfr_tacconi)\n",
    "\n",
    "sigmag_tacconi = np.log10(sigmag_tacconi/msunpc2)\n",
    "sigmasfr_tacconi = np.log10(sigmasfr_tacconi/msunpc2myr)"
   ]
  },
  {
   "cell_type": "code",
   "execution_count": 20,
   "id": "4c570a98",
   "metadata": {},
   "outputs": [],
   "source": [
    "\"\"\"literature properties - Tacconi 2012\"\"\"\n",
    "\n",
    "name_tacconi12=[]\n",
    "sigmag_tacconi12=[]\n",
    "sigmasfr_tacconi12=[]\n",
    "tdyn_tacconi12=[]\n",
    "sb_tacconi12=[]\n",
    "\n",
    "fp=open('./data/tacconi12.txt', 'r')\n",
    "fp.readline()\n",
    "fp.readline()\n",
    "for line in fp:\n",
    "    spl=line.split()\n",
    "    if spl[2]=='...':\n",
    "        continue\n",
    "    name_tacconi12.append(spl[0])\n",
    "    sigmag_tacconi12.append(10.**float(spl[-2])*msunpc2)\n",
    "    sigmasfr_tacconi12.append(10.**float(spl[-1])*msunpc2myr)\n",
    "    tdyn_tacconi12.append(2*np.pi*float(spl[3])*kpc/(float(spl[2])*1e5))\n",
    "    sb_tacconi12.append('merger' in spl[1].lower() or 'amor' in spl[1].lower())\n",
    "fp.close()\n",
    "\n",
    "sigmag_tacconi12 = np.array(sigmag_tacconi12)\n",
    "sigmasfr_tacconi12 = np.array(sigmasfr_tacconi12)\n",
    "\n",
    "sigmag_tacconi12 = np.log10(sigmag_tacconi12/msunpc2)\n",
    "sigmasfr_tacconi12 = np.log10(sigmasfr_tacconi12/msunpc2myr)"
   ]
  },
  {
   "cell_type": "code",
   "execution_count": 21,
   "id": "0a02ce25",
   "metadata": {},
   "outputs": [],
   "source": [
    "\"\"\"literature properties - Kennicutt ULIRG\"\"\"\n",
    "\n",
    "sigmag_kenn_ulirg=[]\n",
    "sigmasfr_kenn_ulirg=[]\n",
    "tdyn_kenn_ulirg=[]\n",
    "\n",
    "fp=open('./data/KS_2_KennUlirgs.dat', 'r')\n",
    "for line in fp:\n",
    "    if line[0]=='#':\n",
    "        continue\n",
    "    if line[0]=='\\n':\n",
    "        continue\n",
    "    spl=line.split()\n",
    "    if spl[2]=='-1':\n",
    "        continue\n",
    "    sigmag_kenn_ulirg.append(10.0**float(spl[0])*msun/pc**2*alphasb)\n",
    "    sigmasfr_kenn_ulirg.append(10.0**float(spl[1])*msun/pc**2/myr)\n",
    "    tdyn_kenn_ulirg.append(float(spl[2])*100*myr)\n",
    "fp.close()\n",
    "\n",
    "sigmag_kenn_ulirg = np.array(sigmag_kenn_ulirg)\n",
    "sigmasfr_kenn_ulirg = np.array(sigmasfr_kenn_ulirg)\n",
    "\n",
    "sigmag_kenn_ulirg = np.log10(sigmag_kenn_ulirg/msunpc2)\n",
    "sigmasfr_kenn_ulirg = np.log10(sigmasfr_kenn_ulirg/msunpc2myr)"
   ]
  },
  {
   "cell_type": "code",
   "execution_count": 22,
   "id": "8898dcd2",
   "metadata": {},
   "outputs": [],
   "source": [
    "\"\"\"literature properties - Kennicutt spiral\"\"\"\n",
    "\n",
    "sigmag_kenn_spiral=[]\n",
    "sigmasfr_kenn_spiral=[]\n",
    "tdyn_kenn_spiral=[]\n",
    "\n",
    "fp=open('./data/KS_2_KennSpirals.dat', 'r')\n",
    "for line in fp:\n",
    "    if line[0]=='#':\n",
    "        continue\n",
    "    if line[0]=='\\n':\n",
    "        continue\n",
    "    spl=line.split()\n",
    "    if spl[2]=='-1':\n",
    "        continue\n",
    "    sigmag_kenn_spiral.append(10.0**float(spl[0])*msun/pc**2*alphasb)\n",
    "    sigmasfr_kenn_spiral.append(10.0**float(spl[1])*msun/pc**2/myr)\n",
    "    tdyn_kenn_spiral.append(float(spl[2])*100*myr)\n",
    "fp.close()\n",
    "\n",
    "sigmag_kenn_spiral = np.array(sigmag_kenn_spiral)\n",
    "sigmasfr_kenn_spiral = np.array(sigmasfr_kenn_spiral)\n",
    "\n",
    "sigmag_kenn_spiral = np.log10(sigmag_kenn_spiral/msunpc2)\n",
    "sigmasfr_kenn_spiral = np.log10(sigmasfr_kenn_spiral/msunpc2myr)"
   ]
  },
  {
   "cell_type": "code",
   "execution_count": 23,
   "id": "23f89077",
   "metadata": {},
   "outputs": [],
   "source": [
    "\"\"\"literature properties - Davis 2014\"\"\"\n",
    "\n",
    "data_davis14=ascii.read('./data/DAVIS14_WISEsfrs.txt')\n",
    "\n",
    "sigmag_davis14 = np.array(data_davis14['Sig_gas'])*msunpc2\n",
    "sigmasfr_davis14 = np.array(data_davis14['SFR'])*msunpc2myr\n",
    "\n",
    "sigmag_davis14 = np.log10(sigmag_davis14/msunpc2)\n",
    "sigmasfr_davis14 = np.log10(sigmasfr_davis14/msunpc2myr)"
   ]
  },
  {
   "cell_type": "code",
   "execution_count": 24,
   "id": "63e43ff1",
   "metadata": {},
   "outputs": [],
   "source": [
    "\"\"\"literature properties - Evans 2013\"\"\"\n",
    "\n",
    "evansdat=ascii.read('./data/logsdens.dat')\n",
    "evansdat1=ascii.read('./data/logsdens1.dat')\n",
    "evansdat2=ascii.read('./data/logsdensu.dat')\n",
    "\n",
    "logsigmagtff_evans=evansdat['col1']\n",
    "logsigmasfr_evans=evansdat['col4']\n",
    "\n",
    "logsigmagtff_evans1=evansdat1['col1']\n",
    "logsigmasfr_evans1=evansdat1['col4']\n",
    "logsigmasfrerr_evans1=evansdat1['col6']\n",
    "\n",
    "logsigmagtff_evans2=evansdat2['col1']\n",
    "logsigmasfr_evans2=evansdat2['col4']\n",
    "logsigmasfrerr_evans2=evansdat2['col6']"
   ]
  },
  {
   "cell_type": "code",
   "execution_count": 25,
   "id": "fae3a50e",
   "metadata": {},
   "outputs": [],
   "source": [
    "\"\"\"literature properties - Lada 2013 / Lombardi data\"\"\"\n",
    "\n",
    "ladadat=ascii.read('./data/lombardi3.dat')\n",
    "arealada=ladadat['AREA'].data*pc**2\n",
    "sigmaSFRlada=ladadat['NSTARS'].data*0.25*msun/(0.25*myr)/arealada\n",
    "sigmaSFRerrlada=np.sqrt(ladadat['NSTARS'].data)*0.25*msun/(0.25*myr)/arealada\n",
    "AKtosigmag = 183*msun/pc**2\n",
    "sigmaglada=ladadat['AK_MEAN']*AKtosigmag\n",
    "masslada=sigmaglada*arealada\n",
    "areadifflada=arealada[:-1]-arealada[1:]\n",
    "massdifflada=masslada[:-1]-masslada[1:]\n",
    "sigmaSFRdifflada=(ladadat['NSTARS'].data[:-1] - ladadat['NSTARS'].data[1:]) *0.25*msun/(0.25*myr) / areadifflada\n",
    "sigmaSFRdifferrlada=np.sqrt(ladadat['NSTARS'].data[:-1] - ladadat['NSTARS'].data[1:]) *0.25*msun/(0.25*myr) / areadifflada\n",
    "sigmagdifflada=massdifflada/areadifflada\n",
    "\n",
    "sigmag_lada13 = np.log10(sigmagdifflada/msunpc2)\n",
    "sigmasfr_lada13 = np.log10(sigmaSFRdifflada/msunpc2myr)"
   ]
  },
  {
   "cell_type": "code",
   "execution_count": 26,
   "id": "06067f55",
   "metadata": {},
   "outputs": [],
   "source": [
    "\"\"\"literature properties - Gutermuth 2011\"\"\"\n",
    "\n",
    "gutermuthdata=ascii.read('./data/gutermuth11.txt')\n",
    "area_gutermuth11=gutermuthdata['Area[pc^2]']*pc**2\n",
    "mass_gutermuth11=gutermuthdata['Mass[msol]']*msun\n",
    "sigmag_gutermuth11=mass_gutermuth11/area_gutermuth11\n",
    "nstar_gutermuth11=gutermuthdata['N_II']\n",
    "sigmasfr_gutermuth11=nstar_gutermuth11*0.5*msun/(2.0*myr)/area_gutermuth11\n",
    "\n",
    "sigmag_gutermuth11 = np.log10(sigmag_gutermuth11/msunpc2)\n",
    "sigmasfr_gutermuth11 = np.log10(sigmasfr_gutermuth11/msunpc2myr)"
   ]
  },
  {
   "cell_type": "code",
   "execution_count": 27,
   "id": "c3c110dd",
   "metadata": {},
   "outputs": [],
   "source": [
    "\"\"\"literature properties - Wu 2010\"\"\"\n",
    "\n",
    "wudata=ascii.read('./data/wu10.txt')\n",
    "area_wu10=wudata['Area']*pc**2\n",
    "sigmag_wu10=10.**wudata['logSig_gas']*msunpc2\n",
    "sigmasfr_wu10=10.**wudata['logSig_SFR']*msunpc2myr\n",
    "\n",
    "sigmag_wu10 = np.log10(sigmag_wu10/msunpc2)\n",
    "sigmasfr_wu10 = np.log10(sigmasfr_wu10/msunpc2myr)"
   ]
  },
  {
   "cell_type": "code",
   "execution_count": 28,
   "id": "f7ec14f4",
   "metadata": {},
   "outputs": [],
   "source": [
    "\"\"\"literature properties - Bigiel 2008\"\"\"\n",
    "\n",
    "table_B08in = asciitable.read('./data/bigiel08_in.txt', Reader=asciitable.Cds)\n",
    "table_B08out = asciitable.read('./data/bigiel08_out.txt', Reader=asciitable.Cds)\n",
    "\n",
    "table_B08in['logGAS'] = np.log10(10**table_B08in['logHI'].quantity.value + 10**table_B08in['logH2'].quantity.value) *table_B08in['logH2'].unit\n",
    "table_B08out['logSFR'] = np.log10(table_B08out['SFR'].quantity.value *1e-5) *table_B08in['logSFR'].unit\n",
    "\n",
    "sigmag_bigiel = table_B08in['logGAS']\n",
    "sigmasfr_bigiel = table_B08in['logSFR']"
   ]
  },
  {
   "cell_type": "code",
   "execution_count": 29,
   "id": "39fb9091",
   "metadata": {},
   "outputs": [
    {
     "data": {
      "text/plain": [
       "<matplotlib.collections.PathCollection at 0x7fde095d7ac0>"
      ]
     },
     "execution_count": 29,
     "metadata": {},
     "output_type": "execute_result"
    }
   ],
   "source": [
    "#creating the \"density\" effect on graph \n",
    "\n",
    "sigmag_all = np.array(np.hstack([sigmag_bigiel, sigmag_heid, sigmag_lada, \n",
    "                        sigmag_genzel, sigmag_bouche, sigmag_daddiz05,\n",
    "                        sigmag_daddiz2, sigmag_tacconi, sigmag_kenn_ulirg,\n",
    "                        sigmag_kenn_spiral, sigmag_davis14, sigmag_lada13, \n",
    "                        sigmag_gutermuth11, sigmag_wu10]))\n",
    "\n",
    "sigmasfr_all = np.array(np.hstack([sigmasfr_bigiel, sigmasfr_heid, sigmasfr_lada, \n",
    "                        sigmasfr_genzel, sigmasfr_bouche, sigmasfr_daddiz05,\n",
    "                        sigmasfr_daddiz2, sigmasfr_tacconi, sigmasfr_kenn_ulirg,\n",
    "                        sigmasfr_kenn_spiral, sigmasfr_davis14, sigmasfr_lada13, \n",
    "                        sigmasfr_gutermuth11, sigmasfr_wu10]))\n",
    "\n",
    "sigmag_all = sigmag_all[~np.isinf(sigmasfr_all)]\n",
    "sigmasfr_all = sigmasfr_all[~np.isinf(sigmasfr_all)]\n",
    "sigmag_all = sigmag_all[sigmasfr_all!=0]\n",
    "sigmasfr_all = sigmasfr_all[sigmasfr_all!=0]\n",
    "\n",
    "x, y = sigmag_all, sigmasfr_all\n",
    "\n",
    "ax.scatter(x, y, ec='none', fc='black', s=43)\n",
    "ax.scatter(x, y, ec='none', fc='white', s=30)\n",
    "\n",
    "\n",
    "#creating the \"density\" effect on graph for Milky Way CMZ\n",
    "#gas = np.array(np.hstack([np.log10(gas)]))\n",
    "#SFR_list = np.array(np.hstack([np.log10(SFR_list)]))\n",
    "\n",
    "#ax.scatter(gas, SFR_list, ec='none', fc='black', s=43)\n",
    "#ax.scatter(gas, SFR_list, ec='none', fc='white', s=30)\n",
    "\n"
   ]
  },
  {
   "cell_type": "code",
   "execution_count": 30,
   "id": "538c13e0",
   "metadata": {},
   "outputs": [
    {
     "data": {
      "text/plain": [
       "<matplotlib.collections.PathCollection at 0x7fddd9244280>"
      ]
     },
     "execution_count": 30,
     "metadata": {},
     "output_type": "execute_result"
    }
   ],
   "source": [
    "#plotting points\n",
    "l_B08 = ax.scatter(sigmag_bigiel, sigmasfr_bigiel, s=30, ec='none', alpha=0.4, c='orange', label=\"Disc Galaxies\")\n",
    "l_kenn_spiral = ax.scatter(sigmag_kenn_spiral, sigmasfr_kenn_spiral,alpha=0.4, s=30, ec='none', c='orange')\n",
    "l_davis14 = ax.scatter(sigmag_davis14, sigmasfr_davis14, s=30, ec='none', alpha=0.4, c='orange')\n",
    "\n",
    "l_kenn_ulirg = ax.scatter(sigmag_kenn_ulirg, sigmasfr_kenn_ulirg, s=30, alpha=0.4,ec='none',  c='blue',label=\"Starburst Galaxies\")\n",
    "\n",
    "l_genzel = ax.scatter(sigmag_genzel, sigmasfr_genzel, s=30, ec='none', alpha=0.4,c='#bb6Eff', label= \"High-redshift Galaxies\")\n",
    "l_bouche = ax.scatter(sigmag_bouche, sigmasfr_bouche, s=30, ec='none', alpha=0.4,c='#bb6Eff')\n",
    "l_daddiz05 = ax.scatter(sigmag_daddiz05, sigmasfr_daddiz05, s=30, ec='none',alpha=0.4,  c='#bb6Eff')\n",
    "l_daddiz2 = ax.scatter(sigmag_daddiz2, sigmasfr_daddiz2, s=30, ec='none',alpha=0.4,c='#bb6Eff')\n",
    "l_tacconi = ax.scatter(sigmag_tacconi, sigmasfr_tacconi, s=30, ec='none', alpha=0.4,c='#bb6Eff')\n",
    "\n",
    "l_heid = ax.scatter(sigmag_heid, sigmasfr_heid, s=30, ec='none', c='red', alpha=0.4,label= \"Milky Way Clouds\")\n",
    "l_lada = ax.scatter(sigmag_lada, sigmasfr_lada, s=30, ec='none',  alpha=0.4,c='red')\n",
    "l_lada13 = ax.scatter(sigmag_lada13, sigmasfr_lada13, s=30, ec='none',alpha=0.4, c='red')\n",
    "l_gutermuth11 = ax.scatter(sigmag_gutermuth11, sigmasfr_gutermuth11, s=30,alpha=0.4, ec='none', c='red')\n",
    "l_wu10 = ax.scatter(sigmag_wu10, sigmasfr_wu10, s=30, ec='none', alpha=0.4,c='red')\n",
    "\n",
    "#ax.scatter(gas,SFR_list, c='c', ec='none', s=30, alpha=0.4, label=\"Milky Way CMZ\")\n",
    "\n",
    "#ax.scatter(np.log10(ffgas), np.log10(ffSFR_list), ec='none', fc='black',marker='D', s=43)\n",
    "#ax.scatter(np.log10(ffgas), np.log10(ffSFR_list), ec='none', fc='white',marker='D', s=30)\n",
    "\n",
    "#ax.scatter(np.log10(cmgas), np.log10(cmSFR_list), ec='none', fc='black',marker='o', s=43)\n",
    "#ax.scatter(np.log10(cmgas), np.log10(cmSFR_list), ec='none', fc='white',marker='o', s=30)\n",
    "\n",
    "#ax.scatter(np.log10(irgas), np.log10(irSFR_list), ec='none', fc='black',marker='X', s=43)\n",
    "#ax.scatter(np.log10(irgas), np.log10(irSFR_list), ec='none', fc='white',marker='X', s=30)\n",
    "\n",
    "ax.scatter(np.log10(branches_gas), np.log10(branches_list), ec='none', fc='black',marker='X', s=43)\n",
    "ax.scatter(np.log10(branches_gas), np.log10(branches_list), ec='none', fc='white',marker='X', s=30)\n",
    "\n",
    "ax.scatter(np.log10(leaves_gas), np.log10(leaves_list), ec='none', fc='black',marker='o', s=43)\n",
    "ax.scatter(np.log10(leaves_gas), np.log10(leaves_list), ec='none', fc='white',marker='o', s=30)\n",
    "#-------------------------------------------------------------------------------------\n",
    "\n",
    "#plotting points\n",
    "#ax.scatter(np.log10(ffgas), np.log10(ffSFR_list),c='c', alpha=0.4, s=30, ec='none', marker='D', label='Free fall SFR')\n",
    "#ax.scatter(np.log10(cmgas), np.log10(cmSFR_list),c='c', alpha=0.4, s=30, ec='none', marker='o',label='CMZoom SFR')\n",
    "#ax.scatter(np.log10(irgas), np.log10(irSFR_list),c='c', alpha=0.4, s=30, ec='none', marker='X',label='IR SFR')\n",
    "\n",
    "ax.scatter(np.log10(branches_gas), np.log10(branches_list),c='c', alpha=0.4, s=30, ec='none', marker='X', label='CMZ (branches)')\n",
    "ax.scatter(np.log10(leaves_gas), np.log10(leaves_list),c='c', alpha=0.4, s=30, ec='none', marker='o',label='CMZ (leaves)')"
   ]
  },
  {
   "cell_type": "code",
   "execution_count": 31,
   "id": "fdbad314",
   "metadata": {},
   "outputs": [
    {
     "data": {
      "text/plain": [
       "array([3.04699656, 2.89526465, 2.94087855, 2.97197128, 2.92676809,\n",
       "       3.04948536, 2.97367106, 2.97367106, 2.9765189 , 3.12984607,\n",
       "       3.35518803, 2.89988485, 3.12493874, 2.99104516, 3.53546787,\n",
       "       3.3651475 , 3.63938431, 3.38916608, 3.3612172 , 3.43933269,\n",
       "       3.49008623, 3.39794001, 4.09691001, 3.23231418, 3.13353891,\n",
       "       3.39794001, 3.61002892, 3.71321044, 3.41753556, 3.34678749,\n",
       "       3.13033377, 2.96428445, 2.85278487, 2.85387196])"
      ]
     },
     "execution_count": 31,
     "metadata": {},
     "output_type": "execute_result"
    }
   ],
   "source": [
    "np.log10(leaves_gas)"
   ]
  },
  {
   "cell_type": "code",
   "execution_count": 32,
   "id": "5fea2392",
   "metadata": {},
   "outputs": [
    {
     "data": {
      "text/plain": [
       "array([ 1.58626572, -2.06694679,  1.74393715,  1.39247711,  1.44069199,\n",
       "        0.93554201,  1.61464912,  1.30737017,  1.46160909,  1.8432139 ,\n",
       "        1.64097806,  1.89988485,  1.50627948,  1.68087178,  2.13752786,\n",
       "        1.50883567,  2.07169322,  1.30103   ,  1.56213204,  2.72699873,\n",
       "        2.45691787,  1.53263858,  2.39794001,  1.76287976,  1.53147892,\n",
       "        2.05551733,  2.49805516,  2.83463261,  2.01639042,  3.04575749,\n",
       "        2.24303805,  1.69897   ,  1.45863785,  1.15490196])"
      ]
     },
     "execution_count": 32,
     "metadata": {},
     "output_type": "execute_result"
    }
   ],
   "source": [
    "np.log10(leaves_list)"
   ]
  },
  {
   "cell_type": "code",
   "execution_count": 33,
   "id": "f7684b24",
   "metadata": {},
   "outputs": [],
   "source": [
    "#used for error bar\n",
    "\n",
    "\"\"\"Geometry\"\"\"\n",
    "\n",
    "def get_areadisc(R):\n",
    "    \"\"\"Surface area (A) of ring with outer radius R\"\"\"\n",
    "    A = np.pi*(R**2)\n",
    "    return(A)\n",
    "\n",
    "def get_areaannulus(R, deltaR):\n",
    "    \"\"\"Surface area (A) of annulus with outer radius R and width deltaR\"\"\"\n",
    "    A = np.pi*(R**2 - (R-deltaR)**2)\n",
    "    return(A)\n",
    "\n",
    "def get_arearectangle(L, H):\n",
    "    \"\"\"Surface area (A) of rectangle with length L and height H\"\"\"\n",
    "    A = L*H\n",
    "    return(A)\n",
    "\n",
    "def get_surfacedensity(A, p, log=True):\n",
    "    \"\"\"Surface area of annulus with outer radius R and width deltaR\n",
    "    log=True returns log10 units\"\"\"\n",
    "    Sigma = p/A\n",
    "    if log: \n",
    "        Sigma=np.log10(Sigma)\n",
    "    return(Sigma)"
   ]
  },
  {
   "cell_type": "code",
   "execution_count": 34,
   "id": "c5b2e482",
   "metadata": {},
   "outputs": [],
   "source": [
    "#used for error bar\n",
    "\n",
    "\"\"\"CMZ properties\"\"\"\n",
    "\n",
    "area_flat = get_arearectangle(200, 20)\n",
    "area = get_areadisc(100) #ring\n",
    "\n",
    "sfr_CMZ = 0.012\n",
    "gas_CMZ = 1.8e7\n",
    "\n",
    "Sigmagas_CMZring_L = get_surfacedensity(area, gas_CMZ)\n",
    "Sigmasfr_CMZring_L = get_surfacedensity(area, sfr_CMZ)+6 \n",
    "\n",
    "sfr_CMZ = 0.14\n",
    "gas_CMZ = 5.3e7\n",
    "\n",
    "Sigmagas_CMZring_H = get_surfacedensity(area, gas_CMZ)\n",
    "Sigmasfr_CMZring_H = get_surfacedensity(area, sfr_CMZ)+6\n",
    "\n",
    "sfr_CMZ = 0.07\n",
    "gas_CMZ = 3.55e7\n",
    "\n",
    "Sigmagas_CMZring = get_surfacedensity(area, gas_CMZ)\n",
    "Sigmasfr_CMZring = get_surfacedensity(area, sfr_CMZ)+6"
   ]
  },
  {
   "cell_type": "code",
   "execution_count": 35,
   "id": "f4b80031",
   "metadata": {},
   "outputs": [
    {
     "name": "stdout",
     "output_type": "stream",
     "text": [
      "[[0.29495585]\n",
      " [0.17404752]]\n",
      "[[0.76591679]\n",
      " [0.30103   ]]\n"
     ]
    },
    {
     "data": {
      "text/plain": [
       "[<matplotlib.lines.Line2D at 0x7fddd921eb20>]"
      ]
     },
     "execution_count": 35,
     "metadata": {},
     "output_type": "execute_result"
    }
   ],
   "source": [
    "\"\"\"CMZ properties\"\"\"\n",
    "\n",
    "x = Sigmagas_CMZring\n",
    "y = Sigmasfr_CMZring\n",
    "\n",
    "xerr = np.array([[(x-Sigmagas_CMZring_L)], [(Sigmagas_CMZring_H-x)]])\n",
    "yerr = np.array([[(y-Sigmasfr_CMZring_L)], [(Sigmasfr_CMZring_H-y)]])\n",
    "print(xerr)\n",
    "print(yerr)\n",
    "\n",
    "ax.errorbar([x],[y],xerr=xerr,yerr=yerr,\n",
    "            zorder=11, c='black', \n",
    "            capsize=3, \n",
    "            elinewidth=2,\n",
    "            capthick=2)\n",
    "\n",
    "ax.scatter(x,y, fc='c', ec='black', lw=2, zorder=11)\n",
    "\n",
    "factor = np.log10((100**2-90**2)/(100**2))\n",
    "\n",
    "ax.scatter(x-factor,y-factor, fc='c', ec='black', lw=2, zorder=11, s=30, alpha=1, marker='^')\n",
    "\n",
    "\n",
    "factor = np.log10((200*20)/(np.pi*(100**2)))\n",
    "\n",
    "ax.scatter(x-factor,y-factor, fc='c', ec='black', lw=2, zorder=11, s=30, alpha=1, marker='s')\n",
    "ax.plot([x,x-factor], [y,y-factor], c='black', lw=2, ls='--', zorder=2, alpha=1)"
   ]
  },
  {
   "cell_type": "code",
   "execution_count": 36,
   "id": "1aa3e26d",
   "metadata": {},
   "outputs": [
    {
     "name": "stdout",
     "output_type": "stream",
     "text": [
      "[7.01596886 6.66659322 6.7716231  6.84321676 6.73913257 7.02169954\n",
      " 6.84713066 6.84713066 6.85368806 7.20673691 7.72560594 6.67723162\n",
      " 7.19543735 6.88713599 8.14071562 7.74853846 8.37999207 7.8038433\n",
      " 7.73948862 7.91935619 8.03622053 7.82404601 9.43348392 7.44267845\n",
      " 7.21523998 7.82404601 8.31239878 8.54998301 7.86916645 7.70626298\n",
      " 7.20785987 6.82551718 6.56877991 6.57128304]\n"
     ]
    }
   ],
   "source": [
    "print(np.log(leaves_gas))"
   ]
  },
  {
   "cell_type": "code",
   "execution_count": 37,
   "id": "178f5d46",
   "metadata": {},
   "outputs": [
    {
     "name": "stdout",
     "output_type": "stream",
     "text": [
      "4673800.277219526\n"
     ]
    }
   ],
   "source": [
    "print(10**6.66967015)"
   ]
  },
  {
   "cell_type": "code",
   "execution_count": 38,
   "id": "699ca6f2",
   "metadata": {},
   "outputs": [
    {
     "name": "stdout",
     "output_type": "stream",
     "text": [
      "[70.0, 7.0, 11.0, 32.0, 58.0, 116.0, 17.0, 34.0, 76.0, 66.0, 128.0, 34.0, 240.0, 98.0, 102.0, 220.0, 78.0, 20.0, 148.0, 12.0, 22.0, 44.0, 104.0, 164.0, 50.0, 44.0, 54.0, 6.0, 26.0, 9.0, 20.0, 38.0, 8.0, 14.0]\n"
     ]
    }
   ],
   "source": [
    "print((leaves_area))"
   ]
  },
  {
   "cell_type": "code",
   "execution_count": 39,
   "id": "71659fbb",
   "metadata": {},
   "outputs": [
    {
     "name": "stdout",
     "output_type": "stream",
     "text": [
      "[ 3.65251181 -4.75932087  4.01556368  3.20629704  3.3173159   2.15416509\n",
      "  3.71786699  3.01033107  3.3654793   4.24415684  3.77849161  4.37464653\n",
      "  3.46833668  3.87035031  4.9218398   3.47422252  4.77024994  2.99573227\n",
      "  3.59694196  6.27914662  5.65726246  3.52903075  5.52146092  4.05918065\n",
      "  3.52636052  4.73300356  5.75198458  6.52698278  4.64291051  7.01311579\n",
      "  5.16478597  3.91202301  3.35863777  2.65926004]\n"
     ]
    }
   ],
   "source": [
    "print(np.log(leaves_list))"
   ]
  },
  {
   "cell_type": "code",
   "execution_count": 40,
   "id": "e7782957",
   "metadata": {},
   "outputs": [
    {
     "name": "stdout",
     "output_type": "stream",
     "text": [
      "[78000.0, 5500.0, 9600.0, 30000.0, 49000.0, 130000.0, 16000.0, 32000.0, 72000.0, 89000.0, 290000.0, 27000.0, 320000.0, 96000.0, 350000.0, 510000.0, 340000.0, 49000.0, 340000.0, 33000.0, 68000.0, 110000.0, 1300000.0, 280000.0, 68000.0, 110000.0, 220000.0, 31000.0, 68000.0, 20000.0, 27000.0, 35000.0, 5700.0, 10000.0]\n"
     ]
    }
   ],
   "source": [
    "print((leaves_mass))"
   ]
  },
  {
   "cell_type": "code",
   "execution_count": 41,
   "id": "870b3e68",
   "metadata": {},
   "outputs": [
    {
     "name": "stdout",
     "output_type": "stream",
     "text": [
      "[0.0027, 6e-08, 0.00061, 0.00079, 0.0016, 0.001, 0.0007, 0.00069, 0.0022, 0.0046, 0.0056, 0.0027, 0.0077, 0.0047, 0.014, 0.0071, 0.0092, 0.0004, 0.0054, 0.0064, 0.0063, 0.0015, 0.026, 0.0095, 0.0017, 0.005, 0.017, 0.0041, 0.0027, 0.01, 0.0035, 0.0019, 0.00023, 0.0002]\n"
     ]
    }
   ],
   "source": [
    "print((leaves_SFR))"
   ]
  },
  {
   "cell_type": "code",
   "execution_count": 42,
   "id": "a2a967fe",
   "metadata": {},
   "outputs": [
    {
     "name": "stdout",
     "output_type": "stream",
     "text": [
      "[ 0.97581328  1.00402965  0.61975375  0.78925768  0.77718118  0.84813154\n",
      "  0.96218069  1.35891745  1.79225959 -0.76995887  1.8942567 ]\n"
     ]
    }
   ],
   "source": [
    "print(np.log(branches_list))"
   ]
  },
  {
   "cell_type": "code",
   "execution_count": 43,
   "id": "64dd2be1",
   "metadata": {},
   "outputs": [
    {
     "data": {
      "text/plain": [
       "(-4.0, 4.0)"
      ]
     },
     "execution_count": 43,
     "metadata": {},
     "output_type": "execute_result"
    }
   ],
   "source": [
    "gas=np.linspace(-1e2,1e5,10000)\n",
    "kennicutSFR=np.log10(2.5e-4*(gas**1.4))\n",
    "ax.plot(np.log10(gas),kennicutSFR,c='k',linestyle='dashed' ,label='Kennicutt (1998)')\n",
    "ax.set_xlim(0,5)\n",
    "\n",
    "a=-3.1\n",
    "n=1\n",
    "gas=np.linspace(-1e2,1e5,10000)\n",
    "#bigielSFR=np.log10((10**-2.1)*(gas**1.0))\n",
    "bigielSFR=np.log10((10**a)*(gas**n))\n",
    "ax.plot(np.log10(gas),bigielSFR,c='k', linestyle='dotted',label='Bigiel et al. (2008)')\n",
    "ax.set_xlim(0,5)\n",
    "ax.set_ylim(-4,4)"
   ]
  },
  {
   "cell_type": "code",
   "execution_count": 44,
   "id": "b8f92c4b",
   "metadata": {},
   "outputs": [
    {
     "data": {
      "image/png": "[encoded data removed]",
      "text/plain": [
       "<Figure size 720x576 with 1 Axes>"
      ]
     },
     "execution_count": 44,
     "metadata": {},
     "output_type": "execute_result"
    },
    {
     "data": {
      "image/png": "[encoded data removed]",
      "text/plain": [
       "<Figure size 432x288 with 1 Axes>"
      ]
     },
     "metadata": {
      "needs_background": "light"
     },
     "output_type": "display_data"
    }
   ],
   "source": [
    "\n",
    "plt.ylabel('Star Formation, log ($\\Sigma_{SFR}$ /$M_\\odot$$kpc^{-2}yr^{-1}$)', **{'fontname':'Georgia'}, fontsize=13)\n",
    "plt.xlabel('Gas, log ($\\Sigma$ /$M_\\odot$pc$^{-2}$)',**{'fontname':'Georgia'},fontsize=13)\n",
    "mpl.rc('font', family='Georgia')\n",
    "plt.ylim(-3.6,3)\n",
    "\n",
    "mpl.rc('xtick', labelsize=15) \n",
    "mpl.rc('ytick', labelsize=15) \n",
    "ax.legend(loc='upper left',fontsize=12)\n",
    "fig"
   ]
  },
  {
   "cell_type": "code",
   "execution_count": 45,
   "id": "dedbfcf3",
   "metadata": {},
   "outputs": [],
   "source": [
    "fig.savefig('SFRvsGas.pdf')"
   ]
  }
 ],
 "metadata": {
  "interpreter": {
   "hash": "140014ad37321e562f591abb18f82ec226c9e25ade5c014ecb5f3a678a862621"
  },
  "kernelspec": {
   "display_name": "Python 3.8.8 64-bit ('base': conda)",
   "name": "python3"
  },
  "language_info": {
   "codemirror_mode": {
    "name": "ipython",
    "version": 3
   },
   "file_extension": ".py",
   "mimetype": "text/x-python",
   "name": "python",
   "nbconvert_exporter": "python",
   "pygments_lexer": "ipython3",
   "version": "3.8.13"
  }
 },
 "nbformat": 4,
 "nbformat_minor": 5
}
